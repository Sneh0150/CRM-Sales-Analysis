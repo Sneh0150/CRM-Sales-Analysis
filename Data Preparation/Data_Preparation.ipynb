{
 "cells": [
  {
   "cell_type": "markdown",
   "id": "b9fe760a-3ea7-481e-8839-7de7ffe66c3d",
   "metadata": {},
   "source": [
    "## Add an ID column to the products, accounts, and sales_teams CSV files"
   ]
  },
  {
   "cell_type": "code",
   "execution_count": 11,
   "id": "9981941e-c337-4623-a060-4bfbdcd43fe1",
   "metadata": {},
   "outputs": [
    {
     "name": "stdout",
     "output_type": "stream",
     "text": [
      "   id           account     sector  year_established  revenue  employees  \\\n",
      "0   1  Acme Corporation  technolgy              1996  1100.04       2822   \n",
      "1   2        Betasoloin    medical              1999   251.41        495   \n",
      "2   3          Betatech    medical              1986   647.18       1185   \n",
      "3   4        Bioholding    medical              2012   587.34       1356   \n",
      "4   5           Bioplex    medical              1991   326.82       1016   \n",
      "\n",
      "  office_location subsidiary_of  \n",
      "0   United States           NaN  \n",
      "1   United States           NaN  \n",
      "2           Kenya           NaN  \n",
      "3      Philipines           NaN  \n",
      "4   United States           NaN  \n",
      "   id       product series  sales_price\n",
      "0   1     GTX Basic    GTX          550\n",
      "1   2       GTX Pro    GTX         4821\n",
      "2   3    MG Special     MG           55\n",
      "3   4   MG Advanced     MG         3393\n",
      "4   5  GTX Plus Pro    GTX         5482\n",
      "   id        sales_agent           manager regional_office\n",
      "0   1      Anna Snelling  Dustin Brinkmann         Central\n",
      "1   2     Cecily Lampkin  Dustin Brinkmann         Central\n",
      "2   3  Versie Hillebrand  Dustin Brinkmann         Central\n",
      "3   4    Lajuana Vencill  Dustin Brinkmann         Central\n",
      "4   5        Moses Frase  Dustin Brinkmann         Central\n"
     ]
    }
   ],
   "source": [
    "import pandas as pd \n",
    "import numpy as np \n",
    "\n",
    "# folder paths\n",
    "original_file=\"C:\\\\Users\\\\kadla\\\\OneDrive\\\\Desktop\\\\CRM Sales opportunity Projet_SQL\\\\Original_Files\\\\\"\n",
    "modified_file=\"C:\\\\Users\\\\kadla\\\\OneDrive\\\\Desktop\\\\CRM Sales opportunity Projet_SQL\\\\Modified_files\\\\\"\n",
    "\n",
    "# list of CSV file names\n",
    "cvs_file_name = ['accounts.csv',\n",
    "                  'products.csv',\n",
    "                  'sales_teams.csv']\n",
    "for file in cvs_file_name:\n",
    "    open_path = original_file+file\n",
    "    df=pd.read_csv(open_path)\n",
    "    #print(df.head())\n",
    "\n",
    "    # define values for the new \"id\" column\n",
    "    max_index = df.index.max()+1\n",
    "    id_values = np.arange(1,max_index+1,1)\n",
    "\n",
    "    # add new \"id\" column to the dataframe\n",
    "    df.insert(loc=0,column = 'id' ,value=id_values)\n",
    "    print(df.head())\n",
    "\n",
    "    # save dataframe back to the CSV file\n",
    "    save_path = modified_file + file\n",
    "    df.to_csv(save_path, index=False)"
   ]
  },
  {
   "cell_type": "markdown",
   "id": "20acae2b-c131-4080-b926-ef2421c0e5bf",
   "metadata": {},
   "source": [
    "## Create a dictionary with ID and full name for the products, accounts, and sales_teams CSV files\n",
    "\n"
   ]
  },
  {
   "cell_type": "markdown",
   "id": "22c4ad67-e343-4b9a-b2f7-18ff94fad1a2",
   "metadata": {},
   "source": [
    "Goal: Prepare the data to replace records in sales_pipeline.csv"
   ]
  },
  {
   "cell_type": "code",
   "execution_count": 16,
   "id": "fa2c5b7b-f0f8-43ed-9b60-5e11d5e019fa",
   "metadata": {},
   "outputs": [
    {
     "name": "stdout",
     "output_type": "stream",
     "text": [
      "Dictionary example: {'GTX Basic': '1', 'GTX Pro': '2', 'MG Special': '3', 'MG Advanced': '4', 'GTX Plus Pro': '5', 'GTX Plus Basic': '6', 'GTK 500': '7'}\n"
     ]
    }
   ],
   "source": [
    "import csv\n",
    "\n",
    "# dictionary names for each CSV file\n",
    "dict_names = ['accounts_dict',\n",
    "              'products_dict',\n",
    "              'teams_dict']\n",
    "\n",
    "for i in range(len(cvs_file_name)):\n",
    "    \n",
    "    file = cvs_file_name[i]\n",
    "    dict_name = dict_names[i]\n",
    "    \n",
    "    #read modified csv files (with id's)\n",
    "    with open(modified_file + file) as csvfile:\n",
    "        reader = csv.reader(csvfile)\n",
    "        \n",
    "        # skip header\n",
    "        next(reader, None)\n",
    "        \n",
    "        temporary_dict = {}\n",
    "\n",
    "        for row in reader:\n",
    "            # key: full name; value: assigned ID\n",
    "            temporary_dict[row[1]] = row[0]\n",
    "        \n",
    "        # save temporary dictionary data to the final dictionary\n",
    "        globals()[dict_name] = temporary_dict\n",
    "\n",
    "print(f'Dictionary example: {products_dict}')"
   ]
  },
  {
   "cell_type": "markdown",
   "id": "6648299f-27b1-46a4-8858-b45f4109263c",
   "metadata": {},
   "source": [
    "## Check for values in the dictionary that do not match the full names in sales_pipeline.csv"
   ]
  },
  {
   "cell_type": "code",
   "execution_count": 17,
   "id": "887d7836-77ac-42cd-b3d0-c219b391e483",
   "metadata": {},
   "outputs": [
    {
     "name": "stdout",
     "output_type": "stream",
     "text": [
      "Sales_pipeline column - product:\n",
      "Non matching values in sales_pipeline column: ['GTXPro'].\n",
      "Non matching values in the dictionary: GTX Pro.\n",
      "Sales_pipeline column - account:\n",
      "Non matching values in sales_pipeline column: [nan].\n",
      "Sales_pipeline column - sales_agent:\n",
      "No missing values in the dictionary.\n"
     ]
    }
   ],
   "source": [
    "sales_pipeline_path = f'{original_file}sales_pipeline.csv'\n",
    "sales_df = pd.read_csv(sales_pipeline_path)\n",
    "\n",
    "# sales_pipeline column and corresponding dictionary\n",
    "data = {'product': products_dict,\n",
    "        'account': accounts_dict,\n",
    "        'sales_agent': teams_dict}\n",
    "\n",
    "for column, dict in data.items():\n",
    "    print(f'Sales_pipeline column - {column}:')\n",
    "\n",
    "    # check for non matching values in sales_pipeline column\n",
    "    x = sales_df[~sales_df[column].isin(dict.keys())][column].unique()\n",
    "    \n",
    "    if len(x) != 0:\n",
    "        print(f'Non matching values in sales_pipeline column: {x}.')        \n",
    "\n",
    "        #check for non matching values in the dictionary \n",
    "        for keys in dict.keys():\n",
    "            y = sales_df[column].unique()\n",
    "            if keys not in y:\n",
    "                print(f'Non matching values in the dictionary: {keys}.')\n",
    "    \n",
    "    else:\n",
    "        print(f'No missing values in the dictionary.')"
   ]
  },
  {
   "cell_type": "markdown",
   "id": "cc93d6d5-375e-4612-8289-9afa29d0b2bd",
   "metadata": {},
   "source": [
    "##### Conclusion: there's a misspelled product name 'GTX Pro' in the dictionary."
   ]
  },
  {
   "cell_type": "markdown",
   "id": "ee6b37ff-2ee6-4787-9623-919be6d475d4",
   "metadata": {},
   "source": [
    "### Modify misspelled values in the products dictionary"
   ]
  },
  {
   "cell_type": "code",
   "execution_count": 18,
   "id": "6df84de9-b288-46d3-8bf5-67926aca7ce3",
   "metadata": {},
   "outputs": [],
   "source": [
    "# replace 'GTX Pro' to 'GTXPro'\n",
    "products_dict['GTXPro'] = products_dict['GTX Pro']\n",
    "\n",
    "del products_dict['GTX Pro']"
   ]
  },
  {
   "cell_type": "markdown",
   "id": "76745847-d42d-4e0b-9cef-8d900f5a5300",
   "metadata": {},
   "source": [
    "### Replace full names in sales_pipeline.csv with IDs"
   ]
  },
  {
   "cell_type": "code",
   "execution_count": 19,
   "id": "c64580ef-d595-4c52-bd46-29e1dbc287c5",
   "metadata": {},
   "outputs": [],
   "source": [
    "for column, dict in data.items():\n",
    "    sales_df[column] = sales_df[column].map(dict)"
   ]
  },
  {
   "cell_type": "code",
   "execution_count": 20,
   "id": "6dab5a8d-a9e4-4768-b0df-674903c54053",
   "metadata": {},
   "outputs": [
    {
     "data": {
      "text/html": [
       "<div>\n",
       "<style scoped>\n",
       "    .dataframe tbody tr th:only-of-type {\n",
       "        vertical-align: middle;\n",
       "    }\n",
       "\n",
       "    .dataframe tbody tr th {\n",
       "        vertical-align: top;\n",
       "    }\n",
       "\n",
       "    .dataframe thead th {\n",
       "        text-align: right;\n",
       "    }\n",
       "</style>\n",
       "<table border=\"1\" class=\"dataframe\">\n",
       "  <thead>\n",
       "    <tr style=\"text-align: right;\">\n",
       "      <th></th>\n",
       "      <th>opportunity_id</th>\n",
       "      <th>sales_agent</th>\n",
       "      <th>product</th>\n",
       "      <th>account</th>\n",
       "      <th>deal_stage</th>\n",
       "      <th>engage_date</th>\n",
       "      <th>close_date</th>\n",
       "      <th>close_value</th>\n",
       "    </tr>\n",
       "  </thead>\n",
       "  <tbody>\n",
       "    <tr>\n",
       "      <th>0</th>\n",
       "      <td>1C1I7A6R</td>\n",
       "      <td>5</td>\n",
       "      <td>6</td>\n",
       "      <td>9</td>\n",
       "      <td>Won</td>\n",
       "      <td>2016-10-20</td>\n",
       "      <td>2017-03-01</td>\n",
       "      <td>1054.0</td>\n",
       "    </tr>\n",
       "    <tr>\n",
       "      <th>1</th>\n",
       "      <td>Z063OYW0</td>\n",
       "      <td>10</td>\n",
       "      <td>2</td>\n",
       "      <td>39</td>\n",
       "      <td>Won</td>\n",
       "      <td>2016-10-25</td>\n",
       "      <td>2017-03-11</td>\n",
       "      <td>4514.0</td>\n",
       "    </tr>\n",
       "    <tr>\n",
       "      <th>2</th>\n",
       "      <td>EC4QE1BX</td>\n",
       "      <td>10</td>\n",
       "      <td>3</td>\n",
       "      <td>9</td>\n",
       "      <td>Won</td>\n",
       "      <td>2016-10-25</td>\n",
       "      <td>2017-03-07</td>\n",
       "      <td>50.0</td>\n",
       "    </tr>\n",
       "    <tr>\n",
       "      <th>3</th>\n",
       "      <td>MV1LWRNH</td>\n",
       "      <td>5</td>\n",
       "      <td>1</td>\n",
       "      <td>11</td>\n",
       "      <td>Won</td>\n",
       "      <td>2016-10-25</td>\n",
       "      <td>2017-03-09</td>\n",
       "      <td>588.0</td>\n",
       "    </tr>\n",
       "    <tr>\n",
       "      <th>4</th>\n",
       "      <td>PE84CX4O</td>\n",
       "      <td>33</td>\n",
       "      <td>1</td>\n",
       "      <td>35</td>\n",
       "      <td>Won</td>\n",
       "      <td>2016-10-25</td>\n",
       "      <td>2017-03-02</td>\n",
       "      <td>517.0</td>\n",
       "    </tr>\n",
       "    <tr>\n",
       "      <th>...</th>\n",
       "      <td>...</td>\n",
       "      <td>...</td>\n",
       "      <td>...</td>\n",
       "      <td>...</td>\n",
       "      <td>...</td>\n",
       "      <td>...</td>\n",
       "      <td>...</td>\n",
       "      <td>...</td>\n",
       "    </tr>\n",
       "    <tr>\n",
       "      <th>8795</th>\n",
       "      <td>9MIWFW5J</td>\n",
       "      <td>3</td>\n",
       "      <td>4</td>\n",
       "      <td>NaN</td>\n",
       "      <td>Prospecting</td>\n",
       "      <td>NaN</td>\n",
       "      <td>NaN</td>\n",
       "      <td>NaN</td>\n",
       "    </tr>\n",
       "    <tr>\n",
       "      <th>8796</th>\n",
       "      <td>6SLKZ8FI</td>\n",
       "      <td>3</td>\n",
       "      <td>4</td>\n",
       "      <td>NaN</td>\n",
       "      <td>Prospecting</td>\n",
       "      <td>NaN</td>\n",
       "      <td>NaN</td>\n",
       "      <td>NaN</td>\n",
       "    </tr>\n",
       "    <tr>\n",
       "      <th>8797</th>\n",
       "      <td>LIB4KUZJ</td>\n",
       "      <td>3</td>\n",
       "      <td>4</td>\n",
       "      <td>NaN</td>\n",
       "      <td>Prospecting</td>\n",
       "      <td>NaN</td>\n",
       "      <td>NaN</td>\n",
       "      <td>NaN</td>\n",
       "    </tr>\n",
       "    <tr>\n",
       "      <th>8798</th>\n",
       "      <td>18IUIUK0</td>\n",
       "      <td>3</td>\n",
       "      <td>4</td>\n",
       "      <td>NaN</td>\n",
       "      <td>Prospecting</td>\n",
       "      <td>NaN</td>\n",
       "      <td>NaN</td>\n",
       "      <td>NaN</td>\n",
       "    </tr>\n",
       "    <tr>\n",
       "      <th>8799</th>\n",
       "      <td>8I5ONXJX</td>\n",
       "      <td>3</td>\n",
       "      <td>4</td>\n",
       "      <td>NaN</td>\n",
       "      <td>Prospecting</td>\n",
       "      <td>NaN</td>\n",
       "      <td>NaN</td>\n",
       "      <td>NaN</td>\n",
       "    </tr>\n",
       "  </tbody>\n",
       "</table>\n",
       "<p>8800 rows × 8 columns</p>\n",
       "</div>"
      ],
      "text/plain": [
       "     opportunity_id sales_agent product account   deal_stage engage_date  \\\n",
       "0          1C1I7A6R           5       6       9          Won  2016-10-20   \n",
       "1          Z063OYW0          10       2      39          Won  2016-10-25   \n",
       "2          EC4QE1BX          10       3       9          Won  2016-10-25   \n",
       "3          MV1LWRNH           5       1      11          Won  2016-10-25   \n",
       "4          PE84CX4O          33       1      35          Won  2016-10-25   \n",
       "...             ...         ...     ...     ...          ...         ...   \n",
       "8795       9MIWFW5J           3       4     NaN  Prospecting         NaN   \n",
       "8796       6SLKZ8FI           3       4     NaN  Prospecting         NaN   \n",
       "8797       LIB4KUZJ           3       4     NaN  Prospecting         NaN   \n",
       "8798       18IUIUK0           3       4     NaN  Prospecting         NaN   \n",
       "8799       8I5ONXJX           3       4     NaN  Prospecting         NaN   \n",
       "\n",
       "      close_date  close_value  \n",
       "0     2017-03-01       1054.0  \n",
       "1     2017-03-11       4514.0  \n",
       "2     2017-03-07         50.0  \n",
       "3     2017-03-09        588.0  \n",
       "4     2017-03-02        517.0  \n",
       "...          ...          ...  \n",
       "8795         NaN          NaN  \n",
       "8796         NaN          NaN  \n",
       "8797         NaN          NaN  \n",
       "8798         NaN          NaN  \n",
       "8799         NaN          NaN  \n",
       "\n",
       "[8800 rows x 8 columns]"
      ]
     },
     "execution_count": 20,
     "metadata": {},
     "output_type": "execute_result"
    }
   ],
   "source": [
    "#preview of the modified sales_pipeline dataframe\n",
    "sales_df"
   ]
  },
  {
   "cell_type": "markdown",
   "id": "c0b970db-28d3-44dc-954b-3358b03d4ae1",
   "metadata": {},
   "source": [
    "### Save changes to sales_pipeline.csv"
   ]
  },
  {
   "cell_type": "code",
   "execution_count": 21,
   "id": "5c59207a-f526-4e66-b1ec-9754a4eb3296",
   "metadata": {},
   "outputs": [],
   "source": [
    "sales_df.to_csv(f\"{modified_file}sales_pipeline.csv\", index=False)"
   ]
  }
 ],
 "metadata": {
  "kernelspec": {
   "display_name": "Python 3 (ipykernel)",
   "language": "python",
   "name": "python3"
  },
  "language_info": {
   "codemirror_mode": {
    "name": "ipython",
    "version": 3
   },
   "file_extension": ".py",
   "mimetype": "text/x-python",
   "name": "python",
   "nbconvert_exporter": "python",
   "pygments_lexer": "ipython3",
   "version": "3.12.4"
  }
 },
 "nbformat": 4,
 "nbformat_minor": 5
}
